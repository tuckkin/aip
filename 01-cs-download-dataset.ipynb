{
 "cells": [
  {
   "cell_type": "code",
   "execution_count": null,
   "id": "a181b793-4013-4254-b698-bf436682fbc6",
   "metadata": {},
   "outputs": [],
   "source": [
    "remote_url = \"https://huggingface.co/datasets/bitext/Bitext-customer-support-llm-chatbot-training-dataset/resolve/main/Bitext_Sample_Customer_Support_Training_Dataset_27K_responses-v11.csv\"\n",
    "dataset_name = \"bitext-customer-support\""
   ]
  },
  {
   "cell_type": "code",
   "execution_count": null,
   "id": "a9384d13-c604-4a41-a434-6c29a662107e",
   "metadata": {},
   "outputs": [],
   "source": [
    "from clearml import Task, Dataset\n",
    "\n",
    "project_name = 'userxx/CustomerSupport'\n",
    "task_name = \"01-download-customer-support-dataset\"\n",
    "\n",
    "task = Task.init(project_name=project_name, task_name=task_name)\n",
    "#task.execute_remotely(queue_name=\"q-group-a-cpu-050\")"
   ]
  },
  {
   "cell_type": "markdown",
   "id": "317a0c2f-253b-4de6-83d5-94146a0779d6",
   "metadata": {},
   "source": [
    "## 1. Download CustomerSupport Dataset and create a Dataset with ClearML's Dataset Class"
   ]
  },
  {
   "cell_type": "code",
   "execution_count": null,
   "id": "938252fa-2ba3-4a0a-8dce-bd3d62613509",
   "metadata": {},
   "outputs": [],
   "source": [
    "# Download CIFAR dataset and create a dataset with ClearML's Dataset class\n",
    "from clearml import StorageManager, Dataset\n",
    "\n",
    "manager = StorageManager()\n",
    "dataset_path = manager.get_local_copy(remote_url=remote_url)\n",
    "dataset = Dataset.create(dataset_project=project_name, dataset_name=dataset_name)\n",
    "dataset.add_files(path=dataset_path)"
   ]
  },
  {
   "cell_type": "markdown",
   "id": "046e68b2-1db9-4a6c-a3ba-59053806f7b2",
   "metadata": {},
   "source": [
    "## 2. Dataset is uploaded to the ClearML Server"
   ]
  },
  {
   "cell_type": "code",
   "execution_count": null,
   "id": "08f92160-7c1b-42dd-8324-b15de4c02579",
   "metadata": {},
   "outputs": [],
   "source": [
    "# Dataset is uploaded to the ClearML Server by default\n",
    "dataset.upload()\n",
    "dataset.finalize()"
   ]
  },
  {
   "cell_type": "code",
   "execution_count": null,
   "id": "367ca2aa-137c-4119-bce8-979c0ab1205c",
   "metadata": {},
   "outputs": [],
   "source": [
    "task.close()"
   ]
  }
 ],
 "metadata": {
  "kernelspec": {
   "display_name": "Python 3 (ipykernel)",
   "language": "python",
   "name": "python3"
  },
  "language_info": {
   "codemirror_mode": {
    "name": "ipython",
    "version": 3
   },
   "file_extension": ".py",
   "mimetype": "text/x-python",
   "name": "python",
   "nbconvert_exporter": "python",
   "pygments_lexer": "ipython3",
   "version": "3.10.12"
  }
 },
 "nbformat": 4,
 "nbformat_minor": 5
}
