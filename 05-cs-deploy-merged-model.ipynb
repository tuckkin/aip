{
 "cells": [
  {
   "cell_type": "code",
   "execution_count": null,
   "id": "9b834150-1f0a-491b-809b-f1082af0779d",
   "metadata": {},
   "outputs": [],
   "source": [
    "from clearml import Task\n",
    "\n",
    "project_name = 'cnasg-tk/CustomerSupport'\n",
    "task_name = \"05-deploy-merged-model\"\n",
    "\n",
    "task = Task.init(project_name=project_name, task_name=task_name)\n",
    "Task.add_requirements(\"./requirements-06.txt\")\n",
    "#task.execute_remotely(queue_name=\"x1-gpu-a40-12gb\")\n",
    "task.execute_remotely(queue_name=\"q-group-a-cpu-050\")"
   ]
  },
  {
   "cell_type": "code",
   "execution_count": null,
   "id": "cb7facdc-7569-4953-9564-a037a39ba39b",
   "metadata": {},
   "outputs": [],
   "source": [
    "import yaml\n",
    "yaml_content = yaml.safe_load('''\n",
    "apiVersion: v1\n",
    "clusters:\n",
    "- cluster:\n",
    "    certificate-authority-data: LS0tLS1CRUdJTiBDRVJUSUZJQ0FURS0tLS0tCk1JSUNWakNDQWYyZ0F3SUJBZ0lSQUo4RE52ME1seXI1UDBEeEx2aGxMUWd3Q2dZSUtvWkl6ajBFQXdJd2dZb3gKRERBS0JnTlZCQVlUQTFWVFFURVRNQkVHQTFVRUNCTUtRMkZzYVdadmNtNXBZVEVTTUJBR0ExVUVCeE1KVTNWdQpibmwyWVd4bE1Sb3dHQVlEVlFRS0V4RlNZV1poZVNCVGVYTjBaVzF6SUVsdVl6RVZNQk1HQTFVRUN4TU1VbUZtCllYa2dVMlZ1ZEhKNU1SNHdIQVlEVlFRREV4VnlZV1poZVMxamIzSmxMWEpsYkdGNUxYVnpaWEl3SGhjTk1qQXcKTnpJMk1EUTBORFE1V2hjTk16QXdOekkyTURRME5EUTVXakNCaWpFTU1Bb0dBMVVFQmhNRFZWTkJNUk13RVFZRApWUVFJRXdwRFlXeHBabTl5Ym1saE1SSXdFQVlEVlFRSEV3bFRkVzV1ZVhaaGJHVXhHakFZQmdOVkJBb1RFVkpoClptRjVJRk41YzNSbGJYTWdTVzVqTVJVd0V3WURWUVFMRXd4U1lXWmhlU0JUWlc1MGNua3hIakFjQmdOVkJBTVQKRlhKaFptRjVMV052Y21VdGNtVnNZWGt0ZFhObGNqQlpNQk1HQnlxR1NNNDlBZ0VHQ0NxR1NNNDlBd0VIQTBJQQpCSjFzZ3RnelYrYnJES1BZU1ltSUlZY0Z6Zy9BY0NPSWgydEgvanVyYU16WG1aalpCRmdmRXFDOHhMNmFGaitQClFkdEs5TjZKNmFoMUZhelZNSFBNK1o2alFqQkFNQTRHQTFVZER3RUIvd1FFQXdJQ2hEQWRCZ05WSFNVRUZqQVUKQmdnckJnRUZCUWNEQWdZSUt3WUJCUVVIQXdFd0R3WURWUjBUQVFIL0JBVXdBd0VCL3pBS0JnZ3Foa2pPUFFRRApBZ05IQURCRUFpQSs3MFZLd1RFU1RlMWc2V0U2MENhYUVPYzAzOExYb3hHdkJiRU9HbHE2bVFJZ09jVGxqRmJvCng4L3ZJY3YvQWYzVFY0aFNJaVVvZVV0SnpLOVRmYkh5cFc4PQotLS0tLUVORCBDRVJUSUZJQ0FURS0tLS0tCg==\n",
    "    server: https://ko7x062.user.kubeapi-proxy.rafay.dev:443\n",
    "  name: tk-rafay-vm-k8s-c3\n",
    "contexts:\n",
    "- context:\n",
    "    cluster: tk-rafay-vm-k8s-c3\n",
    "    namespace: default\n",
    "    user: t-46soon-64dell-46com\n",
    "  name: tk-rafay-vm-k8s-c3\n",
    "current-context: tk-rafay-vm-k8s-c3\n",
    "kind: Config\n",
    "preferences: {}\n",
    "users:\n",
    "- name: t-46soon-64dell-46com\n",
    "  user:\n",
    "    client-certificate-data: LS0tLS1CRUdJTiBDRVJUSUZJQ0FURS0tLS0tCk1JSUNpakNDQWpDZ0F3SUJBZ0lRTFFGRkJPM0pZVHEyVjNzOTl1TGZSREFLQmdncWhrak9QUVFEQWpDQmlqRU0KTUFvR0ExVUVCaE1EVlZOQk1STXdFUVlEVlFRSUV3cERZV3hwWm05eWJtbGhNUkl3RUFZRFZRUUhFd2xUZFc1dQplWFpoYkdVeEdqQVlCZ05WQkFvVEVWSmhabUY1SUZONWMzUmxiWE1nU1c1ak1SVXdFd1lEVlFRTEV3eFNZV1poCmVTQlRaVzUwY25reEhqQWNCZ05WQkFNVEZYSmhabUY1TFdOdmNtVXRjbVZzWVhrdGRYTmxjakFlRncweU5UQTAKTWpNeE5qUTVOVEJhRncweU5qQTBNVGd4TmpRNU5UQmFNR3N4YVRCbkJnTlZCQU1UWUdFOU1uZDRkelUyYlM5dgpQV3ByWlRWdU5Hc3ZjRDEzTW14eWJqSndMM1U5ZEMwME5uTnZiMjR0TmpSa1pXeHNMVFEyWTI5dEwybHpQV1poCmJITmxMMlZ6UFdaaGJITmxMM04wUFhSekwzTjFQV1poYkhObEwzSnVQV1poYkhObEx6QlpNQk1HQnlxR1NNNDkKQWdFR0NDcUdTTTQ5QXdFSEEwSUFCTE9rYVJHSWNrOFEvaXE0M2VMUTQra2xnUmdRdTdSOVYySHE2dFIveUd0Ywp6SDlYMkZFN1lZbXNFTEtONnVXRGUzczkvRGNHUkt0TG9NZE91eGRZSEc2amdaVXdnWkl3RGdZRFZSMFBBUUgvCkJBUURBZ1dnTUJNR0ExVWRKUVFNTUFvR0NDc0dBUVVGQndNQ01Hc0dBMVVkRVFSa01HS0NZR0U5TW5kNGR6VTIKYlM5dlBXcHJaVFZ1TkdzdmNEMTNNbXh5YmpKd0wzVTlkQzAwTm5OdmIyNHROalJrWld4c0xUUTJZMjl0TDJsegpQV1poYkhObEwyVnpQV1poYkhObEwzTjBQWFJ6TDNOMVBXWmhiSE5sTDNKdVBXWmhiSE5sTHpBS0JnZ3Foa2pPClBRUURBZ05JQURCRkFpQmhVendHQ0sxODN2SW4zNHRjVVY1d0lGVFZkZWhzUEh1cVBXVndtOVVZS3dJaEFKdXkKVUNhVTlyVFhtWE5vUzEzQmIybXBDRmVEMThjUnNlZjBIM1Z3M3l2VQotLS0tLUVORCBDRVJUSUZJQ0FURS0tLS0tCg==\n",
    "    client-key-data: LS0tLS1CRUdJTiBFQyBQUklWQVRFIEtFWS0tLS0tCk1IY0NBUUVFSUEwUmhZYnVpN3BrQXJkQXJ6eGVXeGR4WU5wVVlEVU9vdDVVVnNwNXhqVE9vQW9HQ0NxR1NNNDkKQXdFSG9VUURRZ0FFczZScEVZaHlUeEQrS3JqZDR0RGo2U1dCR0JDN3RIMVhZZXJxMUgvSWExek1mMWZZVVR0aAppYXdRc28zcTVZTjdlejM4TndaRXEwdWd4MDY3RjFnY2JnPT0KLS0tLS1FTkQgRUMgUFJJVkFURSBLRVktLS0tLQo=\n",
    "''')\n",
    "\n",
    "#print(yaml_content)"
   ]
  },
  {
   "cell_type": "code",
   "execution_count": null,
   "id": "3cc02559-6087-41ee-93d0-22875c0cb5f9",
   "metadata": {},
   "outputs": [],
   "source": [
    "from kubernetes import config, dynamic\n",
    "from kubernetes.client import api_client\n",
    "from kubernetes.client.rest import ApiException\n",
    "from kubernetes.dynamic.exceptions import ResourceNotFoundError\n",
    "\n",
    "kubeconfig_file = \"./kubeconfig.yaml\"\n",
    "model_name = \"llama-3.2-1b-instruct-customerservice\"\n",
    "\n",
    "with open(kubeconfig_file, 'w') as file:\n",
    "    yaml.dump(yaml_content, file)\n",
    "\n",
    "k8s_client = dynamic.DynamicClient(\n",
    "    api_client.ApiClient(configuration=config.load_kube_config(config_file=kubeconfig_file))\n",
    ")\n",
    "\n",
    "models_client = k8s_client.resources.get(api_version=\"kubeai.org/v1\", kind=\"Model\")\n",
    "model = {\n",
    "    \"apiVersion\": \"kubeai.org/v1\",\n",
    "    \"kind\": \"Model\",\n",
    "    \"metadata\": {\n",
    "        \"name\": \"llama-3.2-1b-instruct-customerservice\",\n",
    "        \"namespace\": \"kubeai\",\n",
    "    },\n",
    "    \"spec\": {\n",
    "        \"features\": [\"TextGeneration\"],\n",
    "        \"owner\": \"meta\",\n",
    "        \"url\": \"pvc://pvc-cna-pscale-sg-csc/models/fine-tuned/merged/llama-3.2-1b-instruct-customerservice\",\n",
    "        \"engine\": \"VLLM\",\n",
    "#        \"args\": \"[\\\"--max-model-len=4096\\\", \\\"--max-num-batched-token=4096\\\", \\\"--gpu-memory-utilization=0.9\\\", \\\"--disable-log-requests\\\"]\",\n",
    "        \"resourceProfile\": \"nvidia-gpu-a30:1\",\n",
    "        \"minReplicas\": 1,\n",
    "    },\n",
    "}\n",
    "\n",
    "#created_model = models_client.get(name=model_name, namespace=\"kubeai\")\n",
    "#if (created_model is None):\n",
    "#    models_client.create(body=model)\n",
    "#else:\n",
    "#    models_client.delete(name=model_name, namespace=\"kubeai\")\n",
    "#    models_client.create(body=model)\n",
    "\n",
    "try:\n",
    "    created_model = models_client.get(name=model_name, namespace=\"kubeai\")\n",
    "    models_client.delete(name=model_name, namespace=\"kubeai\")\n",
    "    models_client.create(body=model)\n",
    "#except ApiException, ResourceNotFoundError:\n",
    "except ApiException as e:\n",
    "    models_client.create(body=model)\n",
    "    created_model = models_client.get(name=model_name, namespace=\"kubeai\")\n",
    "\n",
    "print(created_model)"
   ]
  },
  {
   "cell_type": "code",
   "execution_count": null,
   "id": "e4b825b7-61b0-4578-9e37-3627e5b570a1",
   "metadata": {},
   "outputs": [],
   "source": [
    "task.close()"
   ]
  },
  {
   "cell_type": "code",
   "execution_count": null,
   "id": "b3a1b3c4-f8fa-4a31-ab0b-cd23b8b2b76b",
   "metadata": {},
   "outputs": [],
   "source": []
  }
 ],
 "metadata": {
  "kernelspec": {
   "display_name": "Python 3 (ipykernel)",
   "language": "python",
   "name": "python3"
  },
  "language_info": {
   "codemirror_mode": {
    "name": "ipython",
    "version": 3
   },
   "file_extension": ".py",
   "mimetype": "text/x-python",
   "name": "python",
   "nbconvert_exporter": "python",
   "pygments_lexer": "ipython3",
   "version": "3.10.12"
  }
 },
 "nbformat": 4,
 "nbformat_minor": 5
}
