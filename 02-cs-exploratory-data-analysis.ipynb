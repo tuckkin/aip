{
 "cells": [
  {
   "cell_type": "code",
   "execution_count": null,
   "id": "9abeb6d5-fb06-49ea-a27a-ba3c3a41a88f",
   "metadata": {},
   "outputs": [],
   "source": [
    "%%capture\n",
    "!pip install -r requirements.txt"
   ]
  },
  {
   "cell_type": "code",
   "execution_count": null,
   "id": "f8bdc7fd-1d45-486c-9c5a-6f775af740a8",
   "metadata": {},
   "outputs": [],
   "source": [
    "from clearml import Task, Dataset\n",
    "\n",
    "project_name = 'userxx/CustomerSupport'\n",
    "task_name = \"02-exploratory-data-analysis\"\n",
    "\n",
    "task = Task.init(project_name=project_name, task_name=task_name)\n",
    "#Task.add_requirements(\"./requirements.txt\")\n",
    "#task.set_base_docker(docker_image=\"nvidia/cuda:12.4.1-cudnn-runtime-ubuntu22.04\")\n",
    "#task.execute_remotely(queue_name=\"q-group-a-cpu-050\")"
   ]
  },
  {
   "cell_type": "code",
   "execution_count": null,
   "id": "e1125c1b",
   "metadata": {
    "papermill": {
     "duration": 3.923645,
     "end_time": "2025-02-17T15:25:58.986015",
     "exception": false,
     "start_time": "2025-02-17T15:25:55.062370",
     "status": "completed"
    },
    "tags": []
   },
   "outputs": [],
   "source": [
    "import pandas as pd\n",
    "import numpy as np\n",
    "import matplotlib.pyplot as plt\n",
    "import seaborn as sns\n",
    "import os"
   ]
  },
  {
   "cell_type": "code",
   "execution_count": null,
   "id": "a3a075c2-43a1-4fdd-a23e-95066f5ddf30",
   "metadata": {},
   "outputs": [],
   "source": [
    "dataset_name = \"bitext-customer-support\"\n",
    "dataset = Dataset.get(\n",
    "        dataset_project=project_name,\n",
    "        dataset_name=dataset_name,\n",
    "        only_completed=True,\n",
    "        only_published=False,\n",
    ")\n",
    "dataset_path = dataset.get_local_copy()\n",
    "files = dataset.list_files()\n",
    "print(dataset_path)\n",
    "df = pd.read_csv(dataset_path + \"/\" + files[0])"
   ]
  },
  {
   "cell_type": "code",
   "execution_count": null,
   "id": "0e25ad0a",
   "metadata": {
    "papermill": {
     "duration": 0.048023,
     "end_time": "2025-02-17T15:26:00.442852",
     "exception": false,
     "start_time": "2025-02-17T15:26:00.394829",
     "status": "completed"
    },
    "tags": []
   },
   "outputs": [],
   "source": [
    "df.info()"
   ]
  },
  {
   "cell_type": "code",
   "execution_count": null,
   "id": "c22446bf",
   "metadata": {
    "papermill": {
     "duration": 0.085296,
     "end_time": "2025-02-17T15:26:00.533787",
     "exception": false,
     "start_time": "2025-02-17T15:26:00.448491",
     "status": "completed"
    },
    "tags": []
   },
   "outputs": [],
   "source": [
    "df.describe()"
   ]
  },
  {
   "cell_type": "code",
   "execution_count": null,
   "id": "85b78255",
   "metadata": {
    "papermill": {
     "duration": 0.02466,
     "end_time": "2025-02-17T15:26:00.564072",
     "exception": false,
     "start_time": "2025-02-17T15:26:00.539412",
     "status": "completed"
    },
    "tags": []
   },
   "outputs": [],
   "source": [
    "df.isnull().sum()"
   ]
  },
  {
   "cell_type": "code",
   "execution_count": null,
   "id": "65f9f8bf",
   "metadata": {
    "papermill": {
     "duration": 0.336131,
     "end_time": "2025-02-17T15:26:00.905919",
     "exception": false,
     "start_time": "2025-02-17T15:26:00.569788",
     "status": "completed"
    },
    "tags": []
   },
   "outputs": [],
   "source": [
    "plt.figure(figsize=(10, 6))\n",
    "sns.countplot(data=df, x='category')\n",
    "plt.xticks(rotation=90)\n",
    "plt.title(\"Distribution of Category\")\n",
    "plt.show()"
   ]
  },
  {
   "cell_type": "code",
   "execution_count": null,
   "id": "35579d95",
   "metadata": {
    "papermill": {
     "duration": 0.392784,
     "end_time": "2025-02-17T15:26:01.305303",
     "exception": false,
     "start_time": "2025-02-17T15:26:00.912519",
     "status": "completed"
    },
    "tags": []
   },
   "outputs": [],
   "source": [
    "plt.figure(figsize=(10, 6))\n",
    "sns.countplot(data=df, x='intent')\n",
    "plt.xticks(rotation=90)\n",
    "plt.title(\"Distribution of Intent\")\n",
    "plt.show()"
   ]
  },
  {
   "cell_type": "code",
   "execution_count": null,
   "id": "4cde3999",
   "metadata": {
    "papermill": {
     "duration": 0.351937,
     "end_time": "2025-02-17T15:26:01.669690",
     "exception": false,
     "start_time": "2025-02-17T15:26:01.317753",
     "status": "completed"
    },
    "tags": []
   },
   "outputs": [],
   "source": [
    "df['response_length'] = df['response'].apply(len)\n",
    "plt.figure(figsize=(10, 6))\n",
    "sns.histplot(df['response_length'], bins=50)\n",
    "plt.title(\"Distribution of Response Lengths\")\n",
    "plt.show()"
   ]
  },
  {
   "cell_type": "code",
   "execution_count": null,
   "id": "c7bda78f",
   "metadata": {
    "papermill": {
     "duration": 0.394186,
     "end_time": "2025-02-17T15:26:02.072411",
     "exception": false,
     "start_time": "2025-02-17T15:26:01.678225",
     "status": "completed"
    },
    "scrolled": true,
    "tags": []
   },
   "outputs": [],
   "source": [
    "plt.figure(figsize=(10, 6))\n",
    "sns.countplot(data=df, x='intent')\n",
    "plt.xticks(rotation=90)\n",
    "plt.title(\"Distribution of Intent\")\n",
    "plt.show()"
   ]
  },
  {
   "cell_type": "code",
   "execution_count": null,
   "id": "2b9c589f",
   "metadata": {
    "papermill": {
     "duration": 0.043904,
     "end_time": "2025-02-17T15:26:02.126369",
     "exception": false,
     "start_time": "2025-02-17T15:26:02.082465",
     "status": "completed"
    },
    "tags": []
   },
   "outputs": [],
   "source": [
    "# Group by intent and calculate summary statistics\n",
    "intent_length_stats = df.groupby('intent')['response_length'].agg(['mean', 'min', 'max', 'median', 'std'])\n",
    "\n",
    "# Display the results\n",
    "intent_length_stats"
   ]
  },
  {
   "cell_type": "markdown",
   "id": "23f0cfd5",
   "metadata": {
    "papermill": {
     "duration": 0.011386,
     "end_time": "2025-02-17T15:26:02.149881",
     "exception": false,
     "start_time": "2025-02-17T15:26:02.138495",
     "status": "completed"
    },
    "tags": []
   },
   "source": [
    "- Mean: The average length of responses for each intent.\n",
    "- Min & Max: The shortest and longest response lengths recorded.\n",
    "- Median: The middle value, offering insight into the typical response length.\n",
    "- Standard Deviation (std): Measures variation in response length, indicating  - - - - consistency or diversity in responses."
   ]
  },
  {
   "cell_type": "code",
   "execution_count": null,
   "id": "01a169c3",
   "metadata": {
    "papermill": {
     "duration": 0.697751,
     "end_time": "2025-02-17T15:26:02.859014",
     "exception": false,
     "start_time": "2025-02-17T15:26:02.161263",
     "status": "completed"
    },
    "tags": []
   },
   "outputs": [],
   "source": [
    "plt.figure(figsize=(12, 6))\n",
    "sns.boxplot(data=df, x='intent', y='response_length')\n",
    "plt.xticks(rotation=90)\n",
    "plt.title(\"Response Length Distribution by Intent\")\n",
    "plt.xlabel(\"Intent\")\n",
    "plt.ylabel(\"Response Length\")\n",
    "plt.show()"
   ]
  },
  {
   "cell_type": "markdown",
   "id": "49570286",
   "metadata": {
    "papermill": {
     "duration": 0.012223,
     "end_time": "2025-02-17T15:26:02.884070",
     "exception": false,
     "start_time": "2025-02-17T15:26:02.871847",
     "status": "completed"
    },
    "tags": []
   },
   "source": [
    "##### Observation\n",
    "- Complex inquiries (e.g., check_refund_policy, cancel_order) tend to have longer responses, suggesting detailed explanations.\n",
    "- Straightforward queries (e.g., track_order, check_cancellation_fee) generally have shorter responses, indicating concise replies.\n"
   ]
  },
  {
   "cell_type": "code",
   "execution_count": null,
   "id": "e4367a9e",
   "metadata": {
    "papermill": {
     "duration": 0.032878,
     "end_time": "2025-02-17T15:26:02.929358",
     "exception": false,
     "start_time": "2025-02-17T15:26:02.896480",
     "status": "completed"
    },
    "tags": []
   },
   "outputs": [],
   "source": [
    "category_length_stats = df.groupby('category')['response_length'].agg(['mean', 'min', 'max', 'median', 'std'])\n",
    "category_length_stats"
   ]
  },
  {
   "cell_type": "code",
   "execution_count": null,
   "id": "d286821b",
   "metadata": {
    "papermill": {
     "duration": 0.345783,
     "end_time": "2025-02-17T15:26:03.287995",
     "exception": false,
     "start_time": "2025-02-17T15:26:02.942212",
     "status": "completed"
    },
    "tags": []
   },
   "outputs": [],
   "source": [
    "plt.figure(figsize=(12, 6))\n",
    "sns.boxplot(data=df, x='category', y='response_length')\n",
    "plt.xticks(rotation=90)\n",
    "plt.title(\"Response Length Distribution by Category\")\n",
    "plt.xlabel(\"Category\")\n",
    "plt.ylabel(\"Response Length\")\n",
    "plt.show()"
   ]
  },
  {
   "cell_type": "markdown",
   "id": "ee63ebe7",
   "metadata": {
    "papermill": {
     "duration": 0.015994,
     "end_time": "2025-02-17T15:26:03.318157",
     "exception": false,
     "start_time": "2025-02-17T15:26:03.302163",
     "status": "completed"
    },
    "tags": []
   },
   "source": [
    "##### Observation\n",
    "\n",
    "- Complex interactions, such as REFUND (mean: 913.54) and ACCOUNT (mean: 707.84), have longer responses, likely due to detailed explanations required.\n",
    "- Shorter responses are seen in CANCEL (mean: 260.87), indicating straightforward resolutions.\n",
    "- High standard deviation values, such as in REFUND (std: 566.09) and ORDER (std: 356.25), suggest significant variation in response length, potentially due to differing levels of query complexity within these categories.\n",
    "- DELIVERY (mean: 609.99, std: 267.13) and PAYMENT (mean: 664.40, std: 214.24) exhibit moderate response lengths with some variability, indicating the need for flexibility in handling customer inquiries."
   ]
  },
  {
   "cell_type": "markdown",
   "id": "631a2fda",
   "metadata": {
    "papermill": {
     "duration": 0.014467,
     "end_time": "2025-02-17T15:26:03.346900",
     "exception": false,
     "start_time": "2025-02-17T15:26:03.332433",
     "status": "completed"
    },
    "tags": []
   },
   "source": [
    "#### Text Polarity"
   ]
  },
  {
   "cell_type": "code",
   "execution_count": null,
   "id": "e366db9f",
   "metadata": {
    "papermill": {
     "duration": 1.248182,
     "end_time": "2025-02-17T15:26:04.608809",
     "exception": false,
     "start_time": "2025-02-17T15:26:03.360627",
     "status": "completed"
    },
    "tags": []
   },
   "outputs": [],
   "source": [
    "from textblob import TextBlob\n",
    "import nltk\n",
    "nltk.download('punkt')\n",
    "\n",
    "def get_polarity(text):\n",
    "    return TextBlob(str(text)).sentiment.polarity  # Convert to string to handle NaN values"
   ]
  },
  {
   "cell_type": "code",
   "execution_count": null,
   "id": "0cce2faf",
   "metadata": {
    "papermill": {
     "duration": 20.274827,
     "end_time": "2025-02-17T15:26:24.897571",
     "exception": false,
     "start_time": "2025-02-17T15:26:04.622744",
     "status": "completed"
    },
    "tags": []
   },
   "outputs": [],
   "source": [
    "df[\"response_polarity\"] = df[\"response\"].apply(get_polarity)"
   ]
  },
  {
   "cell_type": "code",
   "execution_count": null,
   "id": "66447a4f",
   "metadata": {
    "papermill": {
     "duration": 0.029652,
     "end_time": "2025-02-17T15:26:24.941531",
     "exception": false,
     "start_time": "2025-02-17T15:26:24.911879",
     "status": "completed"
    },
    "tags": []
   },
   "outputs": [],
   "source": [
    "category_sentiment = df.groupby(\"category\")[\"response_polarity\"].mean().reset_index()\n",
    "category_sentiment"
   ]
  },
  {
   "cell_type": "code",
   "execution_count": null,
   "id": "019ada9e",
   "metadata": {
    "papermill": {
     "duration": 0.03158,
     "end_time": "2025-02-17T15:26:24.987277",
     "exception": false,
     "start_time": "2025-02-17T15:26:24.955697",
     "status": "completed"
    },
    "tags": []
   },
   "outputs": [],
   "source": [
    "intent_sentiment = df.groupby(\"intent\")[\"response_polarity\"].mean().reset_index()\n",
    "intent_sentiment"
   ]
  },
  {
   "cell_type": "code",
   "execution_count": null,
   "id": "3a16348c",
   "metadata": {
    "papermill": {
     "duration": 0.430584,
     "end_time": "2025-02-17T15:26:25.432229",
     "exception": false,
     "start_time": "2025-02-17T15:26:25.001645",
     "status": "completed"
    },
    "tags": []
   },
   "outputs": [],
   "source": [
    "plt.figure(figsize=(12,6))\n",
    "sns.histplot(df[\"response_polarity\"], bins=30, kde=True)\n",
    "plt.title(\"Distribution of Response Polarity\")\n",
    "plt.xlabel(\"Polarity Score\")\n",
    "plt.ylabel(\"Frequency\")\n",
    "plt.show()"
   ]
  },
  {
   "cell_type": "code",
   "execution_count": null,
   "id": "2fb313d1",
   "metadata": {
    "papermill": {
     "duration": 0.060983,
     "end_time": "2025-02-17T15:26:25.508624",
     "exception": false,
     "start_time": "2025-02-17T15:26:25.447641",
     "status": "completed"
    },
    "tags": []
   },
   "outputs": [],
   "source": [
    "category_polarity = df.groupby(\"category\")[\"response_polarity\"].describe()\n",
    "category_polarity"
   ]
  },
  {
   "cell_type": "code",
   "execution_count": null,
   "id": "5ce6648a",
   "metadata": {
    "papermill": {
     "duration": 0.073919,
     "end_time": "2025-02-17T15:26:25.598039",
     "exception": false,
     "start_time": "2025-02-17T15:26:25.524120",
     "status": "completed"
    },
    "tags": []
   },
   "outputs": [],
   "source": [
    "intent_polarity = df.groupby(\"intent\")[\"response_polarity\"].describe()\n",
    "intent_polarity"
   ]
  },
  {
   "cell_type": "code",
   "execution_count": null,
   "id": "3d3b3f3e",
   "metadata": {
    "papermill": {
     "duration": 0.350279,
     "end_time": "2025-02-17T15:26:25.964259",
     "exception": false,
     "start_time": "2025-02-17T15:26:25.613980",
     "status": "completed"
    },
    "tags": []
   },
   "outputs": [],
   "source": [
    "plt.figure(figsize=(12, 6))\n",
    "sns.boxplot(x=\"category\", y=\"response_polarity\", data=df)\n",
    "plt.xticks(rotation=90)  # Rotate x-axis labels\n",
    "plt.title(\"Polarity Distribution by Category\")\n",
    "plt.show()\n"
   ]
  },
  {
   "cell_type": "code",
   "execution_count": null,
   "id": "9becaefb",
   "metadata": {
    "papermill": {
     "duration": 0.592976,
     "end_time": "2025-02-17T15:26:26.575294",
     "exception": false,
     "start_time": "2025-02-17T15:26:25.982318",
     "status": "completed"
    },
    "tags": []
   },
   "outputs": [],
   "source": [
    "plt.figure(figsize=(12, 6))\n",
    "sns.boxplot(x=\"intent\", y=\"response_polarity\", data=df)\n",
    "plt.xticks(rotation=90)\n",
    "plt.title(\"Polarity Distribution by Intent\")\n",
    "plt.show()"
   ]
  },
  {
   "cell_type": "code",
   "execution_count": null,
   "id": "4d4a1c5f-aa31-40cf-9ca8-15dc60a53bc0",
   "metadata": {},
   "outputs": [],
   "source": [
    "task.close()"
   ]
  }
 ],
 "metadata": {
  "kaggle": {
   "accelerator": "none",
   "dataSources": [
    {
     "datasetId": 4624298,
     "sourceId": 7879155,
     "sourceType": "datasetVersion"
    }
   ],
   "dockerImageVersionId": 30886,
   "isGpuEnabled": false,
   "isInternetEnabled": true,
   "language": "python",
   "sourceType": "notebook"
  },
  "kernelspec": {
   "display_name": "Python 3 (ipykernel)",
   "language": "python",
   "name": "python3"
  },
  "language_info": {
   "codemirror_mode": {
    "name": "ipython",
    "version": 3
   },
   "file_extension": ".py",
   "mimetype": "text/x-python",
   "name": "python",
   "nbconvert_exporter": "python",
   "pygments_lexer": "ipython3",
   "version": "3.10.12"
  },
  "papermill": {
   "default_parameters": {},
   "duration": 35.13932,
   "end_time": "2025-02-17T15:26:27.514834",
   "environment_variables": {},
   "exception": null,
   "input_path": "__notebook__.ipynb",
   "output_path": "__notebook__.ipynb",
   "parameters": {},
   "start_time": "2025-02-17T15:25:52.375514",
   "version": "2.6.0"
  }
 },
 "nbformat": 4,
 "nbformat_minor": 5
}
